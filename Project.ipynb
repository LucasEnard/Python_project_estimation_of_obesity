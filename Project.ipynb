{
  "nbformat": 4,
  "nbformat_minor": 0,
  "metadata": {
    "colab": {
      "name": "Project.ipynb",
      "provenance": [],
      "collapsed_sections": []
    },
    "kernelspec": {
      "name": "python3",
      "display_name": "Python 3"
    },
    "language_info": {
      "name": "python"
    }
  },
  "cells": [
    {
      "cell_type": "markdown",
      "metadata": {
        "id": "XxDEOjT_5Y9a"
      },
      "source": [
        "# Import"
      ]
    },
    {
      "cell_type": "code",
      "metadata": {
        "id": "nhbC7lcz4hrG"
      },
      "source": [
        "import pandas as pd\n",
        "import numpy as np\n",
        "import seaborn as sns\n",
        "import matplotlib.pyplot as plt\n",
        "from matplotlib import rcParams\n",
        "import sklearn as sk\n",
        "from sklearn.preprocessing import StandardScaler"
      ],
      "execution_count": 198,
      "outputs": []
    },
    {
      "cell_type": "markdown",
      "metadata": {
        "id": "A3_PWrN35kN0"
      },
      "source": [
        "# Data processing for visualisation"
      ]
    },
    {
      "cell_type": "code",
      "metadata": {
        "colab": {
          "base_uri": "https://localhost:8080/",
          "height": 424
        },
        "id": "7FUieR0v5m-W",
        "outputId": "08920139-a7e2-4558-be21-3479384dc975"
      },
      "source": [
        "df = pd.read_csv (r'ObesityDataSet_raw_and_data_sinthetic.csv')\n",
        "df"
      ],
      "execution_count": 199,
      "outputs": [
        {
          "output_type": "execute_result",
          "data": {
            "text/html": [
              "\n",
              "  <div id=\"df-4cfc22b8-d359-4f63-8a00-c1258acc9a27\">\n",
              "    <div class=\"colab-df-container\">\n",
              "      <div>\n",
              "<style scoped>\n",
              "    .dataframe tbody tr th:only-of-type {\n",
              "        vertical-align: middle;\n",
              "    }\n",
              "\n",
              "    .dataframe tbody tr th {\n",
              "        vertical-align: top;\n",
              "    }\n",
              "\n",
              "    .dataframe thead th {\n",
              "        text-align: right;\n",
              "    }\n",
              "</style>\n",
              "<table border=\"1\" class=\"dataframe\">\n",
              "  <thead>\n",
              "    <tr style=\"text-align: right;\">\n",
              "      <th></th>\n",
              "      <th>Gender</th>\n",
              "      <th>Age</th>\n",
              "      <th>Height</th>\n",
              "      <th>Weight</th>\n",
              "      <th>family_history_with_overweight</th>\n",
              "      <th>FAVC</th>\n",
              "      <th>FCVC</th>\n",
              "      <th>NCP</th>\n",
              "      <th>CAEC</th>\n",
              "      <th>SMOKE</th>\n",
              "      <th>CH2O</th>\n",
              "      <th>SCC</th>\n",
              "      <th>FAF</th>\n",
              "      <th>TUE</th>\n",
              "      <th>CALC</th>\n",
              "      <th>MTRANS</th>\n",
              "      <th>NObeyesdad</th>\n",
              "    </tr>\n",
              "  </thead>\n",
              "  <tbody>\n",
              "    <tr>\n",
              "      <th>0</th>\n",
              "      <td>Female</td>\n",
              "      <td>21.000000</td>\n",
              "      <td>1.620000</td>\n",
              "      <td>64.000000</td>\n",
              "      <td>yes</td>\n",
              "      <td>no</td>\n",
              "      <td>2.0</td>\n",
              "      <td>3.0</td>\n",
              "      <td>Sometimes</td>\n",
              "      <td>no</td>\n",
              "      <td>2.000000</td>\n",
              "      <td>no</td>\n",
              "      <td>0.000000</td>\n",
              "      <td>1.000000</td>\n",
              "      <td>no</td>\n",
              "      <td>Public_Transportation</td>\n",
              "      <td>Normal_Weight</td>\n",
              "    </tr>\n",
              "    <tr>\n",
              "      <th>1</th>\n",
              "      <td>Female</td>\n",
              "      <td>21.000000</td>\n",
              "      <td>1.520000</td>\n",
              "      <td>56.000000</td>\n",
              "      <td>yes</td>\n",
              "      <td>no</td>\n",
              "      <td>3.0</td>\n",
              "      <td>3.0</td>\n",
              "      <td>Sometimes</td>\n",
              "      <td>yes</td>\n",
              "      <td>3.000000</td>\n",
              "      <td>yes</td>\n",
              "      <td>3.000000</td>\n",
              "      <td>0.000000</td>\n",
              "      <td>Sometimes</td>\n",
              "      <td>Public_Transportation</td>\n",
              "      <td>Normal_Weight</td>\n",
              "    </tr>\n",
              "    <tr>\n",
              "      <th>2</th>\n",
              "      <td>Male</td>\n",
              "      <td>23.000000</td>\n",
              "      <td>1.800000</td>\n",
              "      <td>77.000000</td>\n",
              "      <td>yes</td>\n",
              "      <td>no</td>\n",
              "      <td>2.0</td>\n",
              "      <td>3.0</td>\n",
              "      <td>Sometimes</td>\n",
              "      <td>no</td>\n",
              "      <td>2.000000</td>\n",
              "      <td>no</td>\n",
              "      <td>2.000000</td>\n",
              "      <td>1.000000</td>\n",
              "      <td>Frequently</td>\n",
              "      <td>Public_Transportation</td>\n",
              "      <td>Normal_Weight</td>\n",
              "    </tr>\n",
              "    <tr>\n",
              "      <th>3</th>\n",
              "      <td>Male</td>\n",
              "      <td>27.000000</td>\n",
              "      <td>1.800000</td>\n",
              "      <td>87.000000</td>\n",
              "      <td>no</td>\n",
              "      <td>no</td>\n",
              "      <td>3.0</td>\n",
              "      <td>3.0</td>\n",
              "      <td>Sometimes</td>\n",
              "      <td>no</td>\n",
              "      <td>2.000000</td>\n",
              "      <td>no</td>\n",
              "      <td>2.000000</td>\n",
              "      <td>0.000000</td>\n",
              "      <td>Frequently</td>\n",
              "      <td>Walking</td>\n",
              "      <td>Overweight_Level_I</td>\n",
              "    </tr>\n",
              "    <tr>\n",
              "      <th>4</th>\n",
              "      <td>Male</td>\n",
              "      <td>22.000000</td>\n",
              "      <td>1.780000</td>\n",
              "      <td>89.800000</td>\n",
              "      <td>no</td>\n",
              "      <td>no</td>\n",
              "      <td>2.0</td>\n",
              "      <td>1.0</td>\n",
              "      <td>Sometimes</td>\n",
              "      <td>no</td>\n",
              "      <td>2.000000</td>\n",
              "      <td>no</td>\n",
              "      <td>0.000000</td>\n",
              "      <td>0.000000</td>\n",
              "      <td>Sometimes</td>\n",
              "      <td>Public_Transportation</td>\n",
              "      <td>Overweight_Level_II</td>\n",
              "    </tr>\n",
              "    <tr>\n",
              "      <th>...</th>\n",
              "      <td>...</td>\n",
              "      <td>...</td>\n",
              "      <td>...</td>\n",
              "      <td>...</td>\n",
              "      <td>...</td>\n",
              "      <td>...</td>\n",
              "      <td>...</td>\n",
              "      <td>...</td>\n",
              "      <td>...</td>\n",
              "      <td>...</td>\n",
              "      <td>...</td>\n",
              "      <td>...</td>\n",
              "      <td>...</td>\n",
              "      <td>...</td>\n",
              "      <td>...</td>\n",
              "      <td>...</td>\n",
              "      <td>...</td>\n",
              "    </tr>\n",
              "    <tr>\n",
              "      <th>2106</th>\n",
              "      <td>Female</td>\n",
              "      <td>20.976842</td>\n",
              "      <td>1.710730</td>\n",
              "      <td>131.408528</td>\n",
              "      <td>yes</td>\n",
              "      <td>yes</td>\n",
              "      <td>3.0</td>\n",
              "      <td>3.0</td>\n",
              "      <td>Sometimes</td>\n",
              "      <td>no</td>\n",
              "      <td>1.728139</td>\n",
              "      <td>no</td>\n",
              "      <td>1.676269</td>\n",
              "      <td>0.906247</td>\n",
              "      <td>Sometimes</td>\n",
              "      <td>Public_Transportation</td>\n",
              "      <td>Obesity_Type_III</td>\n",
              "    </tr>\n",
              "    <tr>\n",
              "      <th>2107</th>\n",
              "      <td>Female</td>\n",
              "      <td>21.982942</td>\n",
              "      <td>1.748584</td>\n",
              "      <td>133.742943</td>\n",
              "      <td>yes</td>\n",
              "      <td>yes</td>\n",
              "      <td>3.0</td>\n",
              "      <td>3.0</td>\n",
              "      <td>Sometimes</td>\n",
              "      <td>no</td>\n",
              "      <td>2.005130</td>\n",
              "      <td>no</td>\n",
              "      <td>1.341390</td>\n",
              "      <td>0.599270</td>\n",
              "      <td>Sometimes</td>\n",
              "      <td>Public_Transportation</td>\n",
              "      <td>Obesity_Type_III</td>\n",
              "    </tr>\n",
              "    <tr>\n",
              "      <th>2108</th>\n",
              "      <td>Female</td>\n",
              "      <td>22.524036</td>\n",
              "      <td>1.752206</td>\n",
              "      <td>133.689352</td>\n",
              "      <td>yes</td>\n",
              "      <td>yes</td>\n",
              "      <td>3.0</td>\n",
              "      <td>3.0</td>\n",
              "      <td>Sometimes</td>\n",
              "      <td>no</td>\n",
              "      <td>2.054193</td>\n",
              "      <td>no</td>\n",
              "      <td>1.414209</td>\n",
              "      <td>0.646288</td>\n",
              "      <td>Sometimes</td>\n",
              "      <td>Public_Transportation</td>\n",
              "      <td>Obesity_Type_III</td>\n",
              "    </tr>\n",
              "    <tr>\n",
              "      <th>2109</th>\n",
              "      <td>Female</td>\n",
              "      <td>24.361936</td>\n",
              "      <td>1.739450</td>\n",
              "      <td>133.346641</td>\n",
              "      <td>yes</td>\n",
              "      <td>yes</td>\n",
              "      <td>3.0</td>\n",
              "      <td>3.0</td>\n",
              "      <td>Sometimes</td>\n",
              "      <td>no</td>\n",
              "      <td>2.852339</td>\n",
              "      <td>no</td>\n",
              "      <td>1.139107</td>\n",
              "      <td>0.586035</td>\n",
              "      <td>Sometimes</td>\n",
              "      <td>Public_Transportation</td>\n",
              "      <td>Obesity_Type_III</td>\n",
              "    </tr>\n",
              "    <tr>\n",
              "      <th>2110</th>\n",
              "      <td>Female</td>\n",
              "      <td>23.664709</td>\n",
              "      <td>1.738836</td>\n",
              "      <td>133.472641</td>\n",
              "      <td>yes</td>\n",
              "      <td>yes</td>\n",
              "      <td>3.0</td>\n",
              "      <td>3.0</td>\n",
              "      <td>Sometimes</td>\n",
              "      <td>no</td>\n",
              "      <td>2.863513</td>\n",
              "      <td>no</td>\n",
              "      <td>1.026452</td>\n",
              "      <td>0.714137</td>\n",
              "      <td>Sometimes</td>\n",
              "      <td>Public_Transportation</td>\n",
              "      <td>Obesity_Type_III</td>\n",
              "    </tr>\n",
              "  </tbody>\n",
              "</table>\n",
              "<p>2111 rows × 17 columns</p>\n",
              "</div>\n",
              "      <button class=\"colab-df-convert\" onclick=\"convertToInteractive('df-4cfc22b8-d359-4f63-8a00-c1258acc9a27')\"\n",
              "              title=\"Convert this dataframe to an interactive table.\"\n",
              "              style=\"display:none;\">\n",
              "        \n",
              "  <svg xmlns=\"http://www.w3.org/2000/svg\" height=\"24px\"viewBox=\"0 0 24 24\"\n",
              "       width=\"24px\">\n",
              "    <path d=\"M0 0h24v24H0V0z\" fill=\"none\"/>\n",
              "    <path d=\"M18.56 5.44l.94 2.06.94-2.06 2.06-.94-2.06-.94-.94-2.06-.94 2.06-2.06.94zm-11 1L8.5 8.5l.94-2.06 2.06-.94-2.06-.94L8.5 2.5l-.94 2.06-2.06.94zm10 10l.94 2.06.94-2.06 2.06-.94-2.06-.94-.94-2.06-.94 2.06-2.06.94z\"/><path d=\"M17.41 7.96l-1.37-1.37c-.4-.4-.92-.59-1.43-.59-.52 0-1.04.2-1.43.59L10.3 9.45l-7.72 7.72c-.78.78-.78 2.05 0 2.83L4 21.41c.39.39.9.59 1.41.59.51 0 1.02-.2 1.41-.59l7.78-7.78 2.81-2.81c.8-.78.8-2.07 0-2.86zM5.41 20L4 18.59l7.72-7.72 1.47 1.35L5.41 20z\"/>\n",
              "  </svg>\n",
              "      </button>\n",
              "      \n",
              "  <style>\n",
              "    .colab-df-container {\n",
              "      display:flex;\n",
              "      flex-wrap:wrap;\n",
              "      gap: 12px;\n",
              "    }\n",
              "\n",
              "    .colab-df-convert {\n",
              "      background-color: #E8F0FE;\n",
              "      border: none;\n",
              "      border-radius: 50%;\n",
              "      cursor: pointer;\n",
              "      display: none;\n",
              "      fill: #1967D2;\n",
              "      height: 32px;\n",
              "      padding: 0 0 0 0;\n",
              "      width: 32px;\n",
              "    }\n",
              "\n",
              "    .colab-df-convert:hover {\n",
              "      background-color: #E2EBFA;\n",
              "      box-shadow: 0px 1px 2px rgba(60, 64, 67, 0.3), 0px 1px 3px 1px rgba(60, 64, 67, 0.15);\n",
              "      fill: #174EA6;\n",
              "    }\n",
              "\n",
              "    [theme=dark] .colab-df-convert {\n",
              "      background-color: #3B4455;\n",
              "      fill: #D2E3FC;\n",
              "    }\n",
              "\n",
              "    [theme=dark] .colab-df-convert:hover {\n",
              "      background-color: #434B5C;\n",
              "      box-shadow: 0px 1px 3px 1px rgba(0, 0, 0, 0.15);\n",
              "      filter: drop-shadow(0px 1px 2px rgba(0, 0, 0, 0.3));\n",
              "      fill: #FFFFFF;\n",
              "    }\n",
              "  </style>\n",
              "\n",
              "      <script>\n",
              "        const buttonEl =\n",
              "          document.querySelector('#df-4cfc22b8-d359-4f63-8a00-c1258acc9a27 button.colab-df-convert');\n",
              "        buttonEl.style.display =\n",
              "          google.colab.kernel.accessAllowed ? 'block' : 'none';\n",
              "\n",
              "        async function convertToInteractive(key) {\n",
              "          const element = document.querySelector('#df-4cfc22b8-d359-4f63-8a00-c1258acc9a27');\n",
              "          const dataTable =\n",
              "            await google.colab.kernel.invokeFunction('convertToInteractive',\n",
              "                                                     [key], {});\n",
              "          if (!dataTable) return;\n",
              "\n",
              "          const docLinkHtml = 'Like what you see? Visit the ' +\n",
              "            '<a target=\"_blank\" href=https://colab.research.google.com/notebooks/data_table.ipynb>data table notebook</a>'\n",
              "            + ' to learn more about interactive tables.';\n",
              "          element.innerHTML = '';\n",
              "          dataTable['output_type'] = 'display_data';\n",
              "          await google.colab.output.renderOutput(dataTable, element);\n",
              "          const docLink = document.createElement('div');\n",
              "          docLink.innerHTML = docLinkHtml;\n",
              "          element.appendChild(docLink);\n",
              "        }\n",
              "      </script>\n",
              "    </div>\n",
              "  </div>\n",
              "  "
            ],
            "text/plain": [
              "      Gender        Age  ...                 MTRANS           NObeyesdad\n",
              "0     Female  21.000000  ...  Public_Transportation        Normal_Weight\n",
              "1     Female  21.000000  ...  Public_Transportation        Normal_Weight\n",
              "2       Male  23.000000  ...  Public_Transportation        Normal_Weight\n",
              "3       Male  27.000000  ...                Walking   Overweight_Level_I\n",
              "4       Male  22.000000  ...  Public_Transportation  Overweight_Level_II\n",
              "...      ...        ...  ...                    ...                  ...\n",
              "2106  Female  20.976842  ...  Public_Transportation     Obesity_Type_III\n",
              "2107  Female  21.982942  ...  Public_Transportation     Obesity_Type_III\n",
              "2108  Female  22.524036  ...  Public_Transportation     Obesity_Type_III\n",
              "2109  Female  24.361936  ...  Public_Transportation     Obesity_Type_III\n",
              "2110  Female  23.664709  ...  Public_Transportation     Obesity_Type_III\n",
              "\n",
              "[2111 rows x 17 columns]"
            ]
          },
          "metadata": {},
          "execution_count": 199
        }
      ]
    },
    {
      "cell_type": "code",
      "source": [
        "df.columns = ['Gender', 'Age', 'Height', 'Weight', 'family_history_with_overweight','high_cal_food_freq', 'vegetable_freq', 'nb_main_meal', 'snack_freq', 'SMOKE', 'Cons_H2O', 'cal_count', 'sport_freq', 'screen_time','Cons_ALC', 'Means_TRANS', 'label']"
      ],
      "metadata": {
        "id": "a6GPRqCgTFBK"
      },
      "execution_count": 200,
      "outputs": []
    },
    {
      "cell_type": "code",
      "source": [
        "df"
      ],
      "metadata": {
        "colab": {
          "base_uri": "https://localhost:8080/",
          "height": 487
        },
        "id": "XlS8OFWyU8eS",
        "outputId": "8c37100d-4d82-463b-f363-05b60aaf9ad6"
      },
      "execution_count": 201,
      "outputs": [
        {
          "output_type": "execute_result",
          "data": {
            "text/html": [
              "\n",
              "  <div id=\"df-d04b9b3d-b8a0-412c-9bcc-a7f21cfc8639\">\n",
              "    <div class=\"colab-df-container\">\n",
              "      <div>\n",
              "<style scoped>\n",
              "    .dataframe tbody tr th:only-of-type {\n",
              "        vertical-align: middle;\n",
              "    }\n",
              "\n",
              "    .dataframe tbody tr th {\n",
              "        vertical-align: top;\n",
              "    }\n",
              "\n",
              "    .dataframe thead th {\n",
              "        text-align: right;\n",
              "    }\n",
              "</style>\n",
              "<table border=\"1\" class=\"dataframe\">\n",
              "  <thead>\n",
              "    <tr style=\"text-align: right;\">\n",
              "      <th></th>\n",
              "      <th>Gender</th>\n",
              "      <th>Age</th>\n",
              "      <th>Height</th>\n",
              "      <th>Weight</th>\n",
              "      <th>family_history_with_overweight</th>\n",
              "      <th>high_cal_food_freq</th>\n",
              "      <th>vegetable_freq</th>\n",
              "      <th>nb_main_meal</th>\n",
              "      <th>snack_freq</th>\n",
              "      <th>SMOKE</th>\n",
              "      <th>Cons_H2O</th>\n",
              "      <th>cal_count</th>\n",
              "      <th>sport_freq</th>\n",
              "      <th>screen_time</th>\n",
              "      <th>Cons_ALC</th>\n",
              "      <th>Means_TRANS</th>\n",
              "      <th>label</th>\n",
              "    </tr>\n",
              "  </thead>\n",
              "  <tbody>\n",
              "    <tr>\n",
              "      <th>0</th>\n",
              "      <td>Female</td>\n",
              "      <td>21.000000</td>\n",
              "      <td>1.620000</td>\n",
              "      <td>64.000000</td>\n",
              "      <td>yes</td>\n",
              "      <td>no</td>\n",
              "      <td>2.0</td>\n",
              "      <td>3.0</td>\n",
              "      <td>Sometimes</td>\n",
              "      <td>no</td>\n",
              "      <td>2.000000</td>\n",
              "      <td>no</td>\n",
              "      <td>0.000000</td>\n",
              "      <td>1.000000</td>\n",
              "      <td>no</td>\n",
              "      <td>Public_Transportation</td>\n",
              "      <td>Normal_Weight</td>\n",
              "    </tr>\n",
              "    <tr>\n",
              "      <th>1</th>\n",
              "      <td>Female</td>\n",
              "      <td>21.000000</td>\n",
              "      <td>1.520000</td>\n",
              "      <td>56.000000</td>\n",
              "      <td>yes</td>\n",
              "      <td>no</td>\n",
              "      <td>3.0</td>\n",
              "      <td>3.0</td>\n",
              "      <td>Sometimes</td>\n",
              "      <td>yes</td>\n",
              "      <td>3.000000</td>\n",
              "      <td>yes</td>\n",
              "      <td>3.000000</td>\n",
              "      <td>0.000000</td>\n",
              "      <td>Sometimes</td>\n",
              "      <td>Public_Transportation</td>\n",
              "      <td>Normal_Weight</td>\n",
              "    </tr>\n",
              "    <tr>\n",
              "      <th>2</th>\n",
              "      <td>Male</td>\n",
              "      <td>23.000000</td>\n",
              "      <td>1.800000</td>\n",
              "      <td>77.000000</td>\n",
              "      <td>yes</td>\n",
              "      <td>no</td>\n",
              "      <td>2.0</td>\n",
              "      <td>3.0</td>\n",
              "      <td>Sometimes</td>\n",
              "      <td>no</td>\n",
              "      <td>2.000000</td>\n",
              "      <td>no</td>\n",
              "      <td>2.000000</td>\n",
              "      <td>1.000000</td>\n",
              "      <td>Frequently</td>\n",
              "      <td>Public_Transportation</td>\n",
              "      <td>Normal_Weight</td>\n",
              "    </tr>\n",
              "    <tr>\n",
              "      <th>3</th>\n",
              "      <td>Male</td>\n",
              "      <td>27.000000</td>\n",
              "      <td>1.800000</td>\n",
              "      <td>87.000000</td>\n",
              "      <td>no</td>\n",
              "      <td>no</td>\n",
              "      <td>3.0</td>\n",
              "      <td>3.0</td>\n",
              "      <td>Sometimes</td>\n",
              "      <td>no</td>\n",
              "      <td>2.000000</td>\n",
              "      <td>no</td>\n",
              "      <td>2.000000</td>\n",
              "      <td>0.000000</td>\n",
              "      <td>Frequently</td>\n",
              "      <td>Walking</td>\n",
              "      <td>Overweight_Level_I</td>\n",
              "    </tr>\n",
              "    <tr>\n",
              "      <th>4</th>\n",
              "      <td>Male</td>\n",
              "      <td>22.000000</td>\n",
              "      <td>1.780000</td>\n",
              "      <td>89.800000</td>\n",
              "      <td>no</td>\n",
              "      <td>no</td>\n",
              "      <td>2.0</td>\n",
              "      <td>1.0</td>\n",
              "      <td>Sometimes</td>\n",
              "      <td>no</td>\n",
              "      <td>2.000000</td>\n",
              "      <td>no</td>\n",
              "      <td>0.000000</td>\n",
              "      <td>0.000000</td>\n",
              "      <td>Sometimes</td>\n",
              "      <td>Public_Transportation</td>\n",
              "      <td>Overweight_Level_II</td>\n",
              "    </tr>\n",
              "    <tr>\n",
              "      <th>...</th>\n",
              "      <td>...</td>\n",
              "      <td>...</td>\n",
              "      <td>...</td>\n",
              "      <td>...</td>\n",
              "      <td>...</td>\n",
              "      <td>...</td>\n",
              "      <td>...</td>\n",
              "      <td>...</td>\n",
              "      <td>...</td>\n",
              "      <td>...</td>\n",
              "      <td>...</td>\n",
              "      <td>...</td>\n",
              "      <td>...</td>\n",
              "      <td>...</td>\n",
              "      <td>...</td>\n",
              "      <td>...</td>\n",
              "      <td>...</td>\n",
              "    </tr>\n",
              "    <tr>\n",
              "      <th>2106</th>\n",
              "      <td>Female</td>\n",
              "      <td>20.976842</td>\n",
              "      <td>1.710730</td>\n",
              "      <td>131.408528</td>\n",
              "      <td>yes</td>\n",
              "      <td>yes</td>\n",
              "      <td>3.0</td>\n",
              "      <td>3.0</td>\n",
              "      <td>Sometimes</td>\n",
              "      <td>no</td>\n",
              "      <td>1.728139</td>\n",
              "      <td>no</td>\n",
              "      <td>1.676269</td>\n",
              "      <td>0.906247</td>\n",
              "      <td>Sometimes</td>\n",
              "      <td>Public_Transportation</td>\n",
              "      <td>Obesity_Type_III</td>\n",
              "    </tr>\n",
              "    <tr>\n",
              "      <th>2107</th>\n",
              "      <td>Female</td>\n",
              "      <td>21.982942</td>\n",
              "      <td>1.748584</td>\n",
              "      <td>133.742943</td>\n",
              "      <td>yes</td>\n",
              "      <td>yes</td>\n",
              "      <td>3.0</td>\n",
              "      <td>3.0</td>\n",
              "      <td>Sometimes</td>\n",
              "      <td>no</td>\n",
              "      <td>2.005130</td>\n",
              "      <td>no</td>\n",
              "      <td>1.341390</td>\n",
              "      <td>0.599270</td>\n",
              "      <td>Sometimes</td>\n",
              "      <td>Public_Transportation</td>\n",
              "      <td>Obesity_Type_III</td>\n",
              "    </tr>\n",
              "    <tr>\n",
              "      <th>2108</th>\n",
              "      <td>Female</td>\n",
              "      <td>22.524036</td>\n",
              "      <td>1.752206</td>\n",
              "      <td>133.689352</td>\n",
              "      <td>yes</td>\n",
              "      <td>yes</td>\n",
              "      <td>3.0</td>\n",
              "      <td>3.0</td>\n",
              "      <td>Sometimes</td>\n",
              "      <td>no</td>\n",
              "      <td>2.054193</td>\n",
              "      <td>no</td>\n",
              "      <td>1.414209</td>\n",
              "      <td>0.646288</td>\n",
              "      <td>Sometimes</td>\n",
              "      <td>Public_Transportation</td>\n",
              "      <td>Obesity_Type_III</td>\n",
              "    </tr>\n",
              "    <tr>\n",
              "      <th>2109</th>\n",
              "      <td>Female</td>\n",
              "      <td>24.361936</td>\n",
              "      <td>1.739450</td>\n",
              "      <td>133.346641</td>\n",
              "      <td>yes</td>\n",
              "      <td>yes</td>\n",
              "      <td>3.0</td>\n",
              "      <td>3.0</td>\n",
              "      <td>Sometimes</td>\n",
              "      <td>no</td>\n",
              "      <td>2.852339</td>\n",
              "      <td>no</td>\n",
              "      <td>1.139107</td>\n",
              "      <td>0.586035</td>\n",
              "      <td>Sometimes</td>\n",
              "      <td>Public_Transportation</td>\n",
              "      <td>Obesity_Type_III</td>\n",
              "    </tr>\n",
              "    <tr>\n",
              "      <th>2110</th>\n",
              "      <td>Female</td>\n",
              "      <td>23.664709</td>\n",
              "      <td>1.738836</td>\n",
              "      <td>133.472641</td>\n",
              "      <td>yes</td>\n",
              "      <td>yes</td>\n",
              "      <td>3.0</td>\n",
              "      <td>3.0</td>\n",
              "      <td>Sometimes</td>\n",
              "      <td>no</td>\n",
              "      <td>2.863513</td>\n",
              "      <td>no</td>\n",
              "      <td>1.026452</td>\n",
              "      <td>0.714137</td>\n",
              "      <td>Sometimes</td>\n",
              "      <td>Public_Transportation</td>\n",
              "      <td>Obesity_Type_III</td>\n",
              "    </tr>\n",
              "  </tbody>\n",
              "</table>\n",
              "<p>2111 rows × 17 columns</p>\n",
              "</div>\n",
              "      <button class=\"colab-df-convert\" onclick=\"convertToInteractive('df-d04b9b3d-b8a0-412c-9bcc-a7f21cfc8639')\"\n",
              "              title=\"Convert this dataframe to an interactive table.\"\n",
              "              style=\"display:none;\">\n",
              "        \n",
              "  <svg xmlns=\"http://www.w3.org/2000/svg\" height=\"24px\"viewBox=\"0 0 24 24\"\n",
              "       width=\"24px\">\n",
              "    <path d=\"M0 0h24v24H0V0z\" fill=\"none\"/>\n",
              "    <path d=\"M18.56 5.44l.94 2.06.94-2.06 2.06-.94-2.06-.94-.94-2.06-.94 2.06-2.06.94zm-11 1L8.5 8.5l.94-2.06 2.06-.94-2.06-.94L8.5 2.5l-.94 2.06-2.06.94zm10 10l.94 2.06.94-2.06 2.06-.94-2.06-.94-.94-2.06-.94 2.06-2.06.94z\"/><path d=\"M17.41 7.96l-1.37-1.37c-.4-.4-.92-.59-1.43-.59-.52 0-1.04.2-1.43.59L10.3 9.45l-7.72 7.72c-.78.78-.78 2.05 0 2.83L4 21.41c.39.39.9.59 1.41.59.51 0 1.02-.2 1.41-.59l7.78-7.78 2.81-2.81c.8-.78.8-2.07 0-2.86zM5.41 20L4 18.59l7.72-7.72 1.47 1.35L5.41 20z\"/>\n",
              "  </svg>\n",
              "      </button>\n",
              "      \n",
              "  <style>\n",
              "    .colab-df-container {\n",
              "      display:flex;\n",
              "      flex-wrap:wrap;\n",
              "      gap: 12px;\n",
              "    }\n",
              "\n",
              "    .colab-df-convert {\n",
              "      background-color: #E8F0FE;\n",
              "      border: none;\n",
              "      border-radius: 50%;\n",
              "      cursor: pointer;\n",
              "      display: none;\n",
              "      fill: #1967D2;\n",
              "      height: 32px;\n",
              "      padding: 0 0 0 0;\n",
              "      width: 32px;\n",
              "    }\n",
              "\n",
              "    .colab-df-convert:hover {\n",
              "      background-color: #E2EBFA;\n",
              "      box-shadow: 0px 1px 2px rgba(60, 64, 67, 0.3), 0px 1px 3px 1px rgba(60, 64, 67, 0.15);\n",
              "      fill: #174EA6;\n",
              "    }\n",
              "\n",
              "    [theme=dark] .colab-df-convert {\n",
              "      background-color: #3B4455;\n",
              "      fill: #D2E3FC;\n",
              "    }\n",
              "\n",
              "    [theme=dark] .colab-df-convert:hover {\n",
              "      background-color: #434B5C;\n",
              "      box-shadow: 0px 1px 3px 1px rgba(0, 0, 0, 0.15);\n",
              "      filter: drop-shadow(0px 1px 2px rgba(0, 0, 0, 0.3));\n",
              "      fill: #FFFFFF;\n",
              "    }\n",
              "  </style>\n",
              "\n",
              "      <script>\n",
              "        const buttonEl =\n",
              "          document.querySelector('#df-d04b9b3d-b8a0-412c-9bcc-a7f21cfc8639 button.colab-df-convert');\n",
              "        buttonEl.style.display =\n",
              "          google.colab.kernel.accessAllowed ? 'block' : 'none';\n",
              "\n",
              "        async function convertToInteractive(key) {\n",
              "          const element = document.querySelector('#df-d04b9b3d-b8a0-412c-9bcc-a7f21cfc8639');\n",
              "          const dataTable =\n",
              "            await google.colab.kernel.invokeFunction('convertToInteractive',\n",
              "                                                     [key], {});\n",
              "          if (!dataTable) return;\n",
              "\n",
              "          const docLinkHtml = 'Like what you see? Visit the ' +\n",
              "            '<a target=\"_blank\" href=https://colab.research.google.com/notebooks/data_table.ipynb>data table notebook</a>'\n",
              "            + ' to learn more about interactive tables.';\n",
              "          element.innerHTML = '';\n",
              "          dataTable['output_type'] = 'display_data';\n",
              "          await google.colab.output.renderOutput(dataTable, element);\n",
              "          const docLink = document.createElement('div');\n",
              "          docLink.innerHTML = docLinkHtml;\n",
              "          element.appendChild(docLink);\n",
              "        }\n",
              "      </script>\n",
              "    </div>\n",
              "  </div>\n",
              "  "
            ],
            "text/plain": [
              "      Gender        Age  ...            Means_TRANS                label\n",
              "0     Female  21.000000  ...  Public_Transportation        Normal_Weight\n",
              "1     Female  21.000000  ...  Public_Transportation        Normal_Weight\n",
              "2       Male  23.000000  ...  Public_Transportation        Normal_Weight\n",
              "3       Male  27.000000  ...                Walking   Overweight_Level_I\n",
              "4       Male  22.000000  ...  Public_Transportation  Overweight_Level_II\n",
              "...      ...        ...  ...                    ...                  ...\n",
              "2106  Female  20.976842  ...  Public_Transportation     Obesity_Type_III\n",
              "2107  Female  21.982942  ...  Public_Transportation     Obesity_Type_III\n",
              "2108  Female  22.524036  ...  Public_Transportation     Obesity_Type_III\n",
              "2109  Female  24.361936  ...  Public_Transportation     Obesity_Type_III\n",
              "2110  Female  23.664709  ...  Public_Transportation     Obesity_Type_III\n",
              "\n",
              "[2111 rows x 17 columns]"
            ]
          },
          "metadata": {},
          "execution_count": 201
        }
      ]
    },
    {
      "cell_type": "code",
      "source": [
        "df.shape"
      ],
      "metadata": {
        "colab": {
          "base_uri": "https://localhost:8080/"
        },
        "id": "Stcjls62YlEc",
        "outputId": "c33fce2f-5beb-4c6e-8421-bd65f4a00749"
      },
      "execution_count": 202,
      "outputs": [
        {
          "output_type": "execute_result",
          "data": {
            "text/plain": [
              "(2111, 17)"
            ]
          },
          "metadata": {},
          "execution_count": 202
        }
      ]
    },
    {
      "cell_type": "code",
      "source": [
        "#checking for duplicated rows and missing values\n",
        "print(df.duplicated().sum())\n",
        "print(df.isnull().sum().sum())"
      ],
      "metadata": {
        "colab": {
          "base_uri": "https://localhost:8080/"
        },
        "id": "YWEbEq9cYs0h",
        "outputId": "d599bd24-96b3-43e3-9be2-7f65cfed6975"
      },
      "execution_count": 203,
      "outputs": [
        {
          "output_type": "stream",
          "name": "stdout",
          "text": [
            "24\n",
            "0\n"
          ]
        }
      ]
    },
    {
      "cell_type": "code",
      "source": [
        "# Select duplicate rows except first occurrence based on all columns\n",
        "duplicateRowsDF = df[df.duplicated()]\n",
        "print(\"Duplicate Rows except first occurrence based on all columns are :\")\n",
        "print(duplicateRowsDF)"
      ],
      "metadata": {
        "colab": {
          "base_uri": "https://localhost:8080/"
        },
        "id": "hrhMPY1tZL2I",
        "outputId": "e177d42a-e575-45d2-b381-1c69f1c9c6d9"
      },
      "execution_count": 204,
      "outputs": [
        {
          "output_type": "stream",
          "name": "stdout",
          "text": [
            "Duplicate Rows except first occurrence based on all columns are :\n",
            "     Gender   Age  ...            Means_TRANS                label\n",
            "98   Female  21.0  ...  Public_Transportation  Insufficient_Weight\n",
            "106  Female  25.0  ...  Public_Transportation        Normal_Weight\n",
            "174    Male  21.0  ...  Public_Transportation   Overweight_Level_I\n",
            "179    Male  21.0  ...  Public_Transportation   Overweight_Level_I\n",
            "184    Male  21.0  ...  Public_Transportation   Overweight_Level_I\n",
            "209  Female  22.0  ...  Public_Transportation        Normal_Weight\n",
            "309  Female  16.0  ...                Walking        Normal_Weight\n",
            "460  Female  18.0  ...  Public_Transportation        Normal_Weight\n",
            "467    Male  22.0  ...             Automobile        Normal_Weight\n",
            "496    Male  18.0  ...  Public_Transportation  Insufficient_Weight\n",
            "527  Female  21.0  ...  Public_Transportation  Insufficient_Weight\n",
            "659  Female  21.0  ...  Public_Transportation  Insufficient_Weight\n",
            "663  Female  21.0  ...  Public_Transportation  Insufficient_Weight\n",
            "763    Male  21.0  ...  Public_Transportation   Overweight_Level_I\n",
            "764    Male  21.0  ...  Public_Transportation   Overweight_Level_I\n",
            "824    Male  21.0  ...  Public_Transportation   Overweight_Level_I\n",
            "830    Male  21.0  ...  Public_Transportation   Overweight_Level_I\n",
            "831    Male  21.0  ...  Public_Transportation   Overweight_Level_I\n",
            "832    Male  21.0  ...  Public_Transportation   Overweight_Level_I\n",
            "833    Male  21.0  ...  Public_Transportation   Overweight_Level_I\n",
            "834    Male  21.0  ...  Public_Transportation   Overweight_Level_I\n",
            "921    Male  21.0  ...  Public_Transportation   Overweight_Level_I\n",
            "922    Male  21.0  ...  Public_Transportation   Overweight_Level_I\n",
            "923    Male  21.0  ...  Public_Transportation   Overweight_Level_I\n",
            "\n",
            "[24 rows x 17 columns]\n"
          ]
        }
      ]
    },
    {
      "cell_type": "markdown",
      "source": [
        "We think it's not relevant to get rid of the duplicated values ( maybe even detrimental )\n",
        "\n",
        "Their is no missing values so we can go on with the visualization"
      ],
      "metadata": {
        "id": "T77nZox9VJ9w"
      }
    },
    {
      "cell_type": "code",
      "source": [
        "#checking types\n",
        "df.dtypes.sort_values()"
      ],
      "metadata": {
        "colab": {
          "base_uri": "https://localhost:8080/"
        },
        "id": "-6Pe4T1gZ5tM",
        "outputId": "27e50b17-d757-4627-e376-04f3af226638"
      },
      "execution_count": 205,
      "outputs": [
        {
          "output_type": "execute_result",
          "data": {
            "text/plain": [
              "Age                               float64\n",
              "Height                            float64\n",
              "Weight                            float64\n",
              "screen_time                       float64\n",
              "vegetable_freq                    float64\n",
              "nb_main_meal                      float64\n",
              "sport_freq                        float64\n",
              "Cons_H2O                          float64\n",
              "Gender                             object\n",
              "Cons_ALC                           object\n",
              "cal_count                          object\n",
              "snack_freq                         object\n",
              "Means_TRANS                        object\n",
              "high_cal_food_freq                 object\n",
              "family_history_with_overweight     object\n",
              "SMOKE                              object\n",
              "label                              object\n",
              "dtype: object"
            ]
          },
          "metadata": {},
          "execution_count": 205
        }
      ]
    },
    {
      "cell_type": "code",
      "source": [
        "df.describe()"
      ],
      "metadata": {
        "colab": {
          "base_uri": "https://localhost:8080/",
          "height": 300
        },
        "id": "80XSdd-1Z818",
        "outputId": "a3cabf61-46a6-4f71-ce1b-000715974da0"
      },
      "execution_count": 206,
      "outputs": [
        {
          "output_type": "execute_result",
          "data": {
            "text/html": [
              "\n",
              "  <div id=\"df-ca6e096d-e940-41aa-8e23-250011f3e8f0\">\n",
              "    <div class=\"colab-df-container\">\n",
              "      <div>\n",
              "<style scoped>\n",
              "    .dataframe tbody tr th:only-of-type {\n",
              "        vertical-align: middle;\n",
              "    }\n",
              "\n",
              "    .dataframe tbody tr th {\n",
              "        vertical-align: top;\n",
              "    }\n",
              "\n",
              "    .dataframe thead th {\n",
              "        text-align: right;\n",
              "    }\n",
              "</style>\n",
              "<table border=\"1\" class=\"dataframe\">\n",
              "  <thead>\n",
              "    <tr style=\"text-align: right;\">\n",
              "      <th></th>\n",
              "      <th>Age</th>\n",
              "      <th>Height</th>\n",
              "      <th>Weight</th>\n",
              "      <th>vegetable_freq</th>\n",
              "      <th>nb_main_meal</th>\n",
              "      <th>Cons_H2O</th>\n",
              "      <th>sport_freq</th>\n",
              "      <th>screen_time</th>\n",
              "    </tr>\n",
              "  </thead>\n",
              "  <tbody>\n",
              "    <tr>\n",
              "      <th>count</th>\n",
              "      <td>2111.000000</td>\n",
              "      <td>2111.000000</td>\n",
              "      <td>2111.000000</td>\n",
              "      <td>2111.000000</td>\n",
              "      <td>2111.000000</td>\n",
              "      <td>2111.000000</td>\n",
              "      <td>2111.000000</td>\n",
              "      <td>2111.000000</td>\n",
              "    </tr>\n",
              "    <tr>\n",
              "      <th>mean</th>\n",
              "      <td>24.312600</td>\n",
              "      <td>1.701677</td>\n",
              "      <td>86.586058</td>\n",
              "      <td>2.419043</td>\n",
              "      <td>2.685628</td>\n",
              "      <td>2.008011</td>\n",
              "      <td>1.010298</td>\n",
              "      <td>0.657866</td>\n",
              "    </tr>\n",
              "    <tr>\n",
              "      <th>std</th>\n",
              "      <td>6.345968</td>\n",
              "      <td>0.093305</td>\n",
              "      <td>26.191172</td>\n",
              "      <td>0.533927</td>\n",
              "      <td>0.778039</td>\n",
              "      <td>0.612953</td>\n",
              "      <td>0.850592</td>\n",
              "      <td>0.608927</td>\n",
              "    </tr>\n",
              "    <tr>\n",
              "      <th>min</th>\n",
              "      <td>14.000000</td>\n",
              "      <td>1.450000</td>\n",
              "      <td>39.000000</td>\n",
              "      <td>1.000000</td>\n",
              "      <td>1.000000</td>\n",
              "      <td>1.000000</td>\n",
              "      <td>0.000000</td>\n",
              "      <td>0.000000</td>\n",
              "    </tr>\n",
              "    <tr>\n",
              "      <th>25%</th>\n",
              "      <td>19.947192</td>\n",
              "      <td>1.630000</td>\n",
              "      <td>65.473343</td>\n",
              "      <td>2.000000</td>\n",
              "      <td>2.658738</td>\n",
              "      <td>1.584812</td>\n",
              "      <td>0.124505</td>\n",
              "      <td>0.000000</td>\n",
              "    </tr>\n",
              "    <tr>\n",
              "      <th>50%</th>\n",
              "      <td>22.777890</td>\n",
              "      <td>1.700499</td>\n",
              "      <td>83.000000</td>\n",
              "      <td>2.385502</td>\n",
              "      <td>3.000000</td>\n",
              "      <td>2.000000</td>\n",
              "      <td>1.000000</td>\n",
              "      <td>0.625350</td>\n",
              "    </tr>\n",
              "    <tr>\n",
              "      <th>75%</th>\n",
              "      <td>26.000000</td>\n",
              "      <td>1.768464</td>\n",
              "      <td>107.430682</td>\n",
              "      <td>3.000000</td>\n",
              "      <td>3.000000</td>\n",
              "      <td>2.477420</td>\n",
              "      <td>1.666678</td>\n",
              "      <td>1.000000</td>\n",
              "    </tr>\n",
              "    <tr>\n",
              "      <th>max</th>\n",
              "      <td>61.000000</td>\n",
              "      <td>1.980000</td>\n",
              "      <td>173.000000</td>\n",
              "      <td>3.000000</td>\n",
              "      <td>4.000000</td>\n",
              "      <td>3.000000</td>\n",
              "      <td>3.000000</td>\n",
              "      <td>2.000000</td>\n",
              "    </tr>\n",
              "  </tbody>\n",
              "</table>\n",
              "</div>\n",
              "      <button class=\"colab-df-convert\" onclick=\"convertToInteractive('df-ca6e096d-e940-41aa-8e23-250011f3e8f0')\"\n",
              "              title=\"Convert this dataframe to an interactive table.\"\n",
              "              style=\"display:none;\">\n",
              "        \n",
              "  <svg xmlns=\"http://www.w3.org/2000/svg\" height=\"24px\"viewBox=\"0 0 24 24\"\n",
              "       width=\"24px\">\n",
              "    <path d=\"M0 0h24v24H0V0z\" fill=\"none\"/>\n",
              "    <path d=\"M18.56 5.44l.94 2.06.94-2.06 2.06-.94-2.06-.94-.94-2.06-.94 2.06-2.06.94zm-11 1L8.5 8.5l.94-2.06 2.06-.94-2.06-.94L8.5 2.5l-.94 2.06-2.06.94zm10 10l.94 2.06.94-2.06 2.06-.94-2.06-.94-.94-2.06-.94 2.06-2.06.94z\"/><path d=\"M17.41 7.96l-1.37-1.37c-.4-.4-.92-.59-1.43-.59-.52 0-1.04.2-1.43.59L10.3 9.45l-7.72 7.72c-.78.78-.78 2.05 0 2.83L4 21.41c.39.39.9.59 1.41.59.51 0 1.02-.2 1.41-.59l7.78-7.78 2.81-2.81c.8-.78.8-2.07 0-2.86zM5.41 20L4 18.59l7.72-7.72 1.47 1.35L5.41 20z\"/>\n",
              "  </svg>\n",
              "      </button>\n",
              "      \n",
              "  <style>\n",
              "    .colab-df-container {\n",
              "      display:flex;\n",
              "      flex-wrap:wrap;\n",
              "      gap: 12px;\n",
              "    }\n",
              "\n",
              "    .colab-df-convert {\n",
              "      background-color: #E8F0FE;\n",
              "      border: none;\n",
              "      border-radius: 50%;\n",
              "      cursor: pointer;\n",
              "      display: none;\n",
              "      fill: #1967D2;\n",
              "      height: 32px;\n",
              "      padding: 0 0 0 0;\n",
              "      width: 32px;\n",
              "    }\n",
              "\n",
              "    .colab-df-convert:hover {\n",
              "      background-color: #E2EBFA;\n",
              "      box-shadow: 0px 1px 2px rgba(60, 64, 67, 0.3), 0px 1px 3px 1px rgba(60, 64, 67, 0.15);\n",
              "      fill: #174EA6;\n",
              "    }\n",
              "\n",
              "    [theme=dark] .colab-df-convert {\n",
              "      background-color: #3B4455;\n",
              "      fill: #D2E3FC;\n",
              "    }\n",
              "\n",
              "    [theme=dark] .colab-df-convert:hover {\n",
              "      background-color: #434B5C;\n",
              "      box-shadow: 0px 1px 3px 1px rgba(0, 0, 0, 0.15);\n",
              "      filter: drop-shadow(0px 1px 2px rgba(0, 0, 0, 0.3));\n",
              "      fill: #FFFFFF;\n",
              "    }\n",
              "  </style>\n",
              "\n",
              "      <script>\n",
              "        const buttonEl =\n",
              "          document.querySelector('#df-ca6e096d-e940-41aa-8e23-250011f3e8f0 button.colab-df-convert');\n",
              "        buttonEl.style.display =\n",
              "          google.colab.kernel.accessAllowed ? 'block' : 'none';\n",
              "\n",
              "        async function convertToInteractive(key) {\n",
              "          const element = document.querySelector('#df-ca6e096d-e940-41aa-8e23-250011f3e8f0');\n",
              "          const dataTable =\n",
              "            await google.colab.kernel.invokeFunction('convertToInteractive',\n",
              "                                                     [key], {});\n",
              "          if (!dataTable) return;\n",
              "\n",
              "          const docLinkHtml = 'Like what you see? Visit the ' +\n",
              "            '<a target=\"_blank\" href=https://colab.research.google.com/notebooks/data_table.ipynb>data table notebook</a>'\n",
              "            + ' to learn more about interactive tables.';\n",
              "          element.innerHTML = '';\n",
              "          dataTable['output_type'] = 'display_data';\n",
              "          await google.colab.output.renderOutput(dataTable, element);\n",
              "          const docLink = document.createElement('div');\n",
              "          docLink.innerHTML = docLinkHtml;\n",
              "          element.appendChild(docLink);\n",
              "        }\n",
              "      </script>\n",
              "    </div>\n",
              "  </div>\n",
              "  "
            ],
            "text/plain": [
              "               Age       Height  ...   sport_freq  screen_time\n",
              "count  2111.000000  2111.000000  ...  2111.000000  2111.000000\n",
              "mean     24.312600     1.701677  ...     1.010298     0.657866\n",
              "std       6.345968     0.093305  ...     0.850592     0.608927\n",
              "min      14.000000     1.450000  ...     0.000000     0.000000\n",
              "25%      19.947192     1.630000  ...     0.124505     0.000000\n",
              "50%      22.777890     1.700499  ...     1.000000     0.625350\n",
              "75%      26.000000     1.768464  ...     1.666678     1.000000\n",
              "max      61.000000     1.980000  ...     3.000000     2.000000\n",
              "\n",
              "[8 rows x 8 columns]"
            ]
          },
          "metadata": {},
          "execution_count": 206
        }
      ]
    },
    {
      "cell_type": "code",
      "source": [
        "for col in df.select_dtypes(include='object').columns:\n",
        "    print(col)\n",
        "    print(df[col].unique())"
      ],
      "metadata": {
        "colab": {
          "base_uri": "https://localhost:8080/"
        },
        "id": "3rBWOhSlaEsG",
        "outputId": "b38bacda-cf7f-4006-e4cb-272f97fc9037"
      },
      "execution_count": 207,
      "outputs": [
        {
          "output_type": "stream",
          "name": "stdout",
          "text": [
            "Gender\n",
            "['Female' 'Male']\n",
            "family_history_with_overweight\n",
            "['yes' 'no']\n",
            "high_cal_food_freq\n",
            "['no' 'yes']\n",
            "snack_freq\n",
            "['Sometimes' 'Frequently' 'Always' 'no']\n",
            "SMOKE\n",
            "['no' 'yes']\n",
            "cal_count\n",
            "['no' 'yes']\n",
            "Cons_ALC\n",
            "['no' 'Sometimes' 'Frequently' 'Always']\n",
            "Means_TRANS\n",
            "['Public_Transportation' 'Walking' 'Automobile' 'Motorbike' 'Bike']\n",
            "label\n",
            "['Normal_Weight' 'Overweight_Level_I' 'Overweight_Level_II'\n",
            " 'Obesity_Type_I' 'Insufficient_Weight' 'Obesity_Type_II'\n",
            " 'Obesity_Type_III']\n"
          ]
        }
      ]
    },
    {
      "cell_type": "code",
      "source": [
        "df.select_dtypes(object).columns"
      ],
      "metadata": {
        "colab": {
          "base_uri": "https://localhost:8080/"
        },
        "id": "NkLwrcfxctac",
        "outputId": "433bd8cc-9f2a-49c8-c57a-8eb37776cc0f"
      },
      "execution_count": 208,
      "outputs": [
        {
          "output_type": "execute_result",
          "data": {
            "text/plain": [
              "Index(['Gender', 'family_history_with_overweight', 'high_cal_food_freq',\n",
              "       'snack_freq', 'SMOKE', 'cal_count', 'Cons_ALC', 'Means_TRANS', 'label'],\n",
              "      dtype='object')"
            ]
          },
          "metadata": {},
          "execution_count": 208
        }
      ]
    },
    {
      "cell_type": "markdown",
      "metadata": {
        "id": "_sQSdxL45ywH"
      },
      "source": [
        "# Data visualisation"
      ]
    },
    {
      "cell_type": "code",
      "metadata": {
        "colab": {
          "base_uri": "https://localhost:8080/",
          "height": 681
        },
        "id": "CrmB0k5X55hF",
        "outputId": "a91a132e-55c0-4ca6-cc84-3d822edf18b4"
      },
      "source": [
        "#df.plot(1,kind='box', title='boxplot', showmeans=True,figsize=(20,10))\n",
        "df.boxplot(\"Age\",figsize=(20,10))\n",
        "sns.boxplot(df.Age)"
      ],
      "execution_count": 209,
      "outputs": [
        {
          "output_type": "stream",
          "name": "stderr",
          "text": [
            "/usr/local/lib/python3.7/dist-packages/seaborn/_decorators.py:43: FutureWarning: Pass the following variable as a keyword arg: x. From version 0.12, the only valid positional argument will be `data`, and passing other arguments without an explicit keyword will result in an error or misinterpretation.\n",
            "  FutureWarning\n"
          ]
        },
        {
          "output_type": "execute_result",
          "data": {
            "text/plain": [
              "<matplotlib.axes._subplots.AxesSubplot at 0x7f1380fe7b50>"
            ]
          },
          "metadata": {},
          "execution_count": 209
        },
        {
          "output_type": "display_data",
          "data": {
            "image/png": "[encoded data removed]",
            "text/plain": [
              "<Figure size 1440x720 with 1 Axes>"
            ]
          },
          "metadata": {
            "needs_background": "light"
          }
        }
      ]
    },
    {
      "cell_type": "code",
      "source": [
        "#Pearson’s Correlations, which measures the strength of a linear relationship\n",
        "sns.heatmap(df.corr(method='pearson'), cmap=\"Greys\", annot=True)"
      ],
      "metadata": {
        "colab": {
          "base_uri": "https://localhost:8080/",
          "height": 406
        },
        "id": "VhQsbTnOeuDh",
        "outputId": "540f0c95-752a-4bcd-d19b-9c910ce35ba1"
      },
      "execution_count": 210,
      "outputs": [
        {
          "output_type": "execute_result",
          "data": {
            "text/plain": [
              "<matplotlib.axes._subplots.AxesSubplot at 0x7f1380a8a610>"
            ]
          },
          "metadata": {},
          "execution_count": 210
        },
        {
          "output_type": "display_data",
          "data": {
            "image/png": "[encoded data removed]",
            "text/plain": [
              "<Figure size 720x360 with 2 Axes>"
            ]
          },
          "metadata": {
            "needs_background": "light"
          }
        }
      ]
    },
    {
      "cell_type": "code",
      "source": [
        "list(df.groupby('SMOKE')[\"Gender\"].count())"
      ],
      "metadata": {
        "colab": {
          "base_uri": "https://localhost:8080/"
        },
        "id": "g5gmB1_UjBv9",
        "outputId": "02e560d3-1d0e-465a-a27c-b3bdcc7e35e4"
      },
      "execution_count": 211,
      "outputs": [
        {
          "output_type": "execute_result",
          "data": {
            "text/plain": [
              "[2067, 44]"
            ]
          },
          "metadata": {},
          "execution_count": 211
        }
      ]
    },
    {
      "cell_type": "code",
      "source": [
        "rcParams['figure.figsize'] = 10,5"
      ],
      "metadata": {
        "id": "debGsWMupurm"
      },
      "execution_count": 212,
      "outputs": []
    },
    {
      "cell_type": "code",
      "source": [
        "for f in ['Gender', 'family_history_with_overweight', 'high_cal_food_freq','snack_freq', 'SMOKE', 'cal_count', 'Cons_ALC', 'Means_TRANS']:\n",
        "    x,y = f, 'label'\n",
        "    test = (df.groupby(x)[y].value_counts(normalize=True).rename('proportion').reset_index())\n",
        "    sns.barplot(x=x, y=\"proportion\", hue=y, data=test)\n",
        "    plt.title(\"Countplot of {}\".format(f))\n",
        "    plt.show()\n",
        "    print(\"Number of occurence per categorie for {} : \".format(f),dict(df.groupby(x)[\"Gender\"].count()))"
      ],
      "metadata": {
        "colab": {
          "base_uri": "https://localhost:8080/",
          "height": 1000
        },
        "id": "AIuJWGcbuqId",
        "outputId": "7d4d929f-b350-422f-f5fe-2935eacdab96"
      },
      "execution_count": 213,
      "outputs": [
        {
          "output_type": "display_data",
          "data": {
            "image/png": "[encoded data removed]",
            "text/plain": [
              "<Figure size 720x360 with 1 Axes>"
            ]
          },
          "metadata": {
            "needs_background": "light"
          }
        },
        {
          "output_type": "stream",
          "name": "stdout",
          "text": [
            "Number of occurence per categorie for Gender :  {'Female': 1043, 'Male': 1068}\n"
          ]
        },
        {
          "output_type": "display_data",
          "data": {
            "image/png": "[encoded data removed]",
            "text/plain": [
              "<Figure size 720x360 with 1 Axes>"
            ]
          },
          "metadata": {
            "needs_background": "light"
          }
        },
        {
          "output_type": "stream",
          "name": "stdout",
          "text": [
            "Number of occurence per categorie for family_history_with_overweight :  {'no': 385, 'yes': 1726}\n"
          ]
        },
        {
          "output_type": "display_data",
          "data": {
            "image/png": "[encoded data removed]",
            "text/plain": [
              "<Figure size 720x360 with 1 Axes>"
            ]
          },
          "metadata": {
            "needs_background": "light"
          }
        },
        {
          "output_type": "stream",
          "name": "stdout",
          "text": [
            "Number of occurence per categorie for high_cal_food_freq :  {'no': 245, 'yes': 1866}\n"
          ]
        },
        {
          "output_type": "display_data",
          "data": {
            "image/png": "[encoded data removed]",
            "text/plain": [
              "<Figure size 720x360 with 1 Axes>"
            ]
          },
          "metadata": {
            "needs_background": "light"
          }
        },
        {
          "output_type": "stream",
          "name": "stdout",
          "text": [
            "Number of occurence per categorie for snack_freq :  {'Always': 53, 'Frequently': 242, 'Sometimes': 1765, 'no': 51}\n"
          ]
        },
        {
          "output_type": "display_data",
          "data": {
            "image/png": "[encoded data removed]",
            "text/plain": [
              "<Figure size 720x360 with 1 Axes>"
            ]
          },
          "metadata": {
            "needs_background": "light"
          }
        },
        {
          "output_type": "stream",
          "name": "stdout",
          "text": [
            "Number of occurence per categorie for SMOKE :  {'no': 2067, 'yes': 44}\n"
          ]
        },
        {
          "output_type": "display_data",
          "data": {
            "image/png": "[encoded data removed]",
            "text/plain": [
              "<Figure size 720x360 with 1 Axes>"
            ]
          },
          "metadata": {
            "needs_background": "light"
          }
        },
        {
          "output_type": "stream",
          "name": "stdout",
          "text": [
            "Number of occurence per categorie for cal_count :  {'no': 2015, 'yes': 96}\n"
          ]
        },
        {
          "output_type": "display_data",
          "data": {
            "image/png": "[encoded data removed]",
            "text/plain": [
              "<Figure size 720x360 with 1 Axes>"
            ]
          },
          "metadata": {
            "needs_background": "light"
          }
        },
        {
          "output_type": "stream",
          "name": "stdout",
          "text": [
            "Number of occurence per categorie for Cons_ALC :  {'Always': 1, 'Frequently': 70, 'Sometimes': 1401, 'no': 639}\n"
          ]
        },
        {
          "output_type": "display_data",
          "data": {
            "image/png": "[encoded data removed]",
            "text/plain": [
              "<Figure size 720x360 with 1 Axes>"
            ]
          },
          "metadata": {
            "needs_background": "light"
          }
        },
        {
          "output_type": "stream",
          "name": "stdout",
          "text": [
            "Number of occurence per categorie for Means_TRANS :  {'Automobile': 457, 'Bike': 7, 'Motorbike': 11, 'Public_Transportation': 1580, 'Walking': 56}\n"
          ]
        }
      ]
    },
    {
      "cell_type": "markdown",
      "metadata": {
        "id": "DdxUO_FR_3qi"
      },
      "source": [
        "# Data processing for ML"
      ]
    },
    {
      "cell_type": "code",
      "source": [
        "df.select_dtypes(object).columns"
      ],
      "metadata": {
        "colab": {
          "base_uri": "https://localhost:8080/"
        },
        "id": "2F3YHnmH1wSm",
        "outputId": "87d5a21c-d6e8-4f3b-ecd2-3b105db441e2"
      },
      "execution_count": 20,
      "outputs": [
        {
          "output_type": "execute_result",
          "data": {
            "text/plain": [
              "Index(['Gender', 'family_history_with_overweight', 'high_cal_food_freq',\n",
              "       'snack_freq', 'SMOKE', 'cal_count', 'Cons_ALC', 'Means_TRANS', 'label'],\n",
              "      dtype='object')"
            ]
          },
          "metadata": {},
          "execution_count": 20
        }
      ]
    },
    {
      "cell_type": "code",
      "metadata": {
        "id": "f4tPUzfA_7ml"
      },
      "source": [
        "# std_scaler = StandardScaler() \n",
        "# df_scaled = std_scaler.fit_transform(df.to_numpy())\n",
        "# df_scaled = pd.DataFrame(df_scaled, columns=df.columns)"
      ],
      "execution_count": 21,
      "outputs": []
    },
    {
      "cell_type": "code",
      "source": [
        "df['Gender'] = df.Gender.replace({'Male':0, 'Female':1})\n",
        "df['family_history_with_overweight'] = df.family_history_with_overweight.replace({'yes':0, 'no':1})\n",
        "df['high_cal_food_freq'] = df.high_cal_food_freq.replace({'yes':0, 'no':1})\n",
        "df['SMOKE'] = df.SMOKE.replace({'yes':0, 'no':1})\n",
        "df['cal_count'] = df.cal_count.replace({'yes':0, 'no':1})\n",
        "df['snack_freq'] = df.snack_freq.replace({'Sometimes':1, 'Frequently':2, 'Always':3, 'no':0})\n",
        "df['Cons_ALC'] = df.Cons_ALC.replace({'Sometimes':1, 'Frequently':2, 'Always':3, 'no':0})\n",
        "df['Means_TRANS'] = df.Means_TRANS.replace({'Public_Transportation':1, 'Walking':3, 'Automobile':0, 'Motorbike':2, 'Bike':4})\n",
        "df['label'] = df.label.replace({'Normal_Weight':1, 'Overweight_Level_I':2, 'Overweight_Level_II':3, 'Obesity_Type_I':4, 'Insufficient_Weight':0,'Obesity_Type_II':5, 'Obesity_Type_III':6})"
      ],
      "metadata": {
        "id": "D3li440hwilf"
      },
      "execution_count": 22,
      "outputs": []
    },
    {
      "cell_type": "markdown",
      "source": [
        "## Data predictions with weight and height"
      ],
      "metadata": {
        "id": "WWZqGMcdm0IS"
      }
    },
    {
      "cell_type": "code",
      "source": [
        "X = df.loc[:,df.columns != 'label']\n",
        "y = df.label"
      ],
      "metadata": {
        "id": "_kfpbA_2nAO0"
      },
      "execution_count": 64,
      "outputs": []
    },
    {
      "cell_type": "markdown",
      "source": [
        "### Random forest"
      ],
      "metadata": {
        "id": "2WxSZoRzm83c"
      }
    },
    {
      "cell_type": "code",
      "source": [
        "from sklearn.model_selection import train_test_split\n",
        "\n",
        "# Split into validation and training data\n",
        "train_X, val_X, train_y, val_y = train_test_split(X, y, random_state=1)"
      ],
      "metadata": {
        "id": "pIIzkbRpm6Xe"
      },
      "execution_count": 65,
      "outputs": []
    },
    {
      "cell_type": "code",
      "source": [
        "from sklearn.ensemble import RandomForestRegressor\n",
        "from sklearn.metrics import mean_absolute_error\n",
        "\n",
        "# Define a random forest model\n",
        "rf_model = RandomForestRegressor(random_state=1)\n",
        "rf_model.fit(train_X, train_y)\n",
        "rf_val_predictions = rf_model.predict(val_X)\n",
        "rf_val_mae = mean_absolute_error(rf_val_predictions, val_y)\n",
        "rf_accuracy = sk.metrics.accuracy_score(val_y,list(map(round,rf_val_predictions)))\n",
        "\n",
        "print(\"Validation MAE for Random Forest Model: {}\".format(rf_val_mae))\n",
        "print(\"Accuracy by rounding predicted results into classes: {}\".format(rf_accuracy))"
      ],
      "metadata": {
        "colab": {
          "base_uri": "https://localhost:8080/"
        },
        "id": "5DKGo1hin11u",
        "outputId": "ce6ed12d-3d42-4b19-e6ae-1bd14c96b2df"
      },
      "execution_count": 66,
      "outputs": [
        {
          "output_type": "stream",
          "name": "stdout",
          "text": [
            "Validation MAE for Random Forest Model: 0.07551136363636361\n",
            "Accuracy by rounding predicted results into classes: 0.9659090909090909\n"
          ]
        }
      ]
    },
    {
      "cell_type": "markdown",
      "source": [
        "Here we can see that a simple random forest without neither gridsearch nor further modification gives a really decent results with a really good MAE and accuracy"
      ],
      "metadata": {
        "id": "vvkvrxFhsLlu"
      }
    },
    {
      "cell_type": "markdown",
      "source": [
        "This is because we are trying to predict the BMI which depends only on the height and weight who are both in the dataset.\n"
      ],
      "metadata": {
        "id": "XiwMrSebsqa7"
      }
    },
    {
      "cell_type": "markdown",
      "source": [
        "## Data predictions without weight and height\n"
      ],
      "metadata": {
        "id": "PnIacka2g5-K"
      }
    },
    {
      "cell_type": "markdown",
      "source": [
        "We get rid of the columns Height and Weight in order to predict the BMI with only the habits and practices"
      ],
      "metadata": {
        "id": "2EVCxHKmn7_1"
      }
    },
    {
      "cell_type": "code",
      "source": [
        "features = ['Gender',\n",
        " 'Age',\n",
        " 'family_history_with_overweight',\n",
        " 'high_cal_food_freq',\n",
        " 'vegetable_freq',\n",
        " 'nb_main_meal',\n",
        " 'snack_freq',\n",
        " 'SMOKE',\n",
        " 'Cons_H2O',\n",
        " 'cal_count',\n",
        " 'sport_freq',\n",
        " 'screen_time',\n",
        " 'Cons_ALC',\n",
        " 'Means_TRANS',]"
      ],
      "metadata": {
        "id": "zwOet64WchsK"
      },
      "execution_count": 167,
      "outputs": []
    },
    {
      "cell_type": "code",
      "source": [
        "X=df[features]"
      ],
      "metadata": {
        "id": "xJQ8F3qYuLZv"
      },
      "execution_count": 168,
      "outputs": []
    },
    {
      "cell_type": "code",
      "source": [
        "y = df.label"
      ],
      "metadata": {
        "id": "WCC1Wp8_tfb4"
      },
      "execution_count": 169,
      "outputs": []
    },
    {
      "cell_type": "code",
      "source": [
        "from sklearn.model_selection import train_test_split\n",
        "\n",
        "# Split into validation and training data\n",
        "train_X, val_X, train_y, val_y = train_test_split(X, y, random_state=1)"
      ],
      "metadata": {
        "id": "PO-q_IXtamlt"
      },
      "execution_count": 170,
      "outputs": []
    },
    {
      "cell_type": "markdown",
      "source": [
        "### Random Forest"
      ],
      "metadata": {
        "id": "xVPi_jFM0f11"
      }
    },
    {
      "cell_type": "code",
      "source": [
        "from sklearn.ensemble import RandomForestRegressor\n",
        "from sklearn.metrics import mean_absolute_error\n",
        "\n",
        "# Define a random forest model\n",
        "rf_model = RandomForestRegressor(random_state=1)\n",
        "rf_model.fit(train_X, train_y)\n",
        "rf_val_predictions = rf_model.predict(val_X)\n",
        "rf_val_mae = mean_absolute_error(rf_val_predictions, val_y)\n",
        "rf_accuracy = sk.metrics.accuracy_score(val_y,list(map(round,rf_val_predictions)))\n",
        "mod1 = pd.DataFrame({\"Model\":\"Random Forest\",\"Accuracy\":rf_accuracy,\"MAE\":rf_val_mae},index =[0])\n",
        "\n",
        "print(\"Validation MAE for Random Forest Model: {}\".format(rf_val_mae))\n",
        "print(\"Accuracy : {}\".format(rf_accuracy))"
      ],
      "metadata": {
        "colab": {
          "base_uri": "https://localhost:8080/"
        },
        "id": "FwQdsmFgdkwr",
        "outputId": "e5fb0b2c-ff81-4f48-9af7-223f035bee77"
      },
      "execution_count": 171,
      "outputs": [
        {
          "output_type": "stream",
          "name": "stdout",
          "text": [
            "Validation MAE for Random Forest Model: 0.43170454545454545\n",
            "Accuracy : 0.7178030303030303\n"
          ]
        }
      ]
    },
    {
      "cell_type": "code",
      "source": [
        "# Look at parameters used by our current forest\n",
        "print('Parameters currently in use:\\n')\n",
        "for item in rf_model.get_params().items():\n",
        "  print(item)"
      ],
      "metadata": {
        "colab": {
          "base_uri": "https://localhost:8080/"
        },
        "id": "IKKyKIYptLLG",
        "outputId": "e847ab30-5b32-44a1-ddf8-219b0caa3376"
      },
      "execution_count": 111,
      "outputs": [
        {
          "output_type": "stream",
          "name": "stdout",
          "text": [
            "Parameters currently in use:\n",
            "\n",
            "('bootstrap', True)\n",
            "('ccp_alpha', 0.0)\n",
            "('criterion', 'squared_error')\n",
            "('max_depth', None)\n",
            "('max_features', 'auto')\n",
            "('max_leaf_nodes', None)\n",
            "('max_samples', None)\n",
            "('min_impurity_decrease', 0.0)\n",
            "('min_samples_leaf', 1)\n",
            "('min_samples_split', 2)\n",
            "('min_weight_fraction_leaf', 0.0)\n",
            "('n_estimators', 100)\n",
            "('n_jobs', None)\n",
            "('oob_score', False)\n",
            "('random_state', 1)\n",
            "('verbose', 0)\n",
            "('warm_start', False)\n"
          ]
        }
      ]
    },
    {
      "cell_type": "code",
      "source": [
        "from sklearn.model_selection import GridSearchCV"
      ],
      "metadata": {
        "id": "0tFjamRsyF3r"
      },
      "execution_count": 112,
      "outputs": []
    },
    {
      "cell_type": "code",
      "source": [
        "param_grid = {\n",
        "    'bootstrap': [True],\n",
        "    'max_depth': [None],\n",
        "    'max_features': [3],\n",
        "    'min_samples_leaf': [1,2],\n",
        "    'min_samples_split': [2,0.8],\n",
        "    'n_estimators': [1000]\n",
        "}\n",
        "\n",
        "rf_model_grid = RandomForestRegressor()"
      ],
      "metadata": {
        "id": "IqDX0kybyHqf"
      },
      "execution_count": 151,
      "outputs": []
    },
    {
      "cell_type": "code",
      "source": [
        "grid_search = GridSearchCV(estimator = rf_model_grid, param_grid = param_grid, n_jobs = -1, return_train_score=True)"
      ],
      "metadata": {
        "id": "ksONB8IGyX2y"
      },
      "execution_count": 152,
      "outputs": []
    },
    {
      "cell_type": "code",
      "source": [
        "grid_search.fit(train_X, train_y)"
      ],
      "metadata": {
        "colab": {
          "base_uri": "https://localhost:8080/"
        },
        "id": "rxXKduJoy4Db",
        "outputId": "b953ace8-5883-4cda-fe56-2dddd1953f36"
      },
      "execution_count": 153,
      "outputs": [
        {
          "output_type": "execute_result",
          "data": {
            "text/plain": [
              "GridSearchCV(estimator=RandomForestRegressor(), n_jobs=-1,\n",
              "             param_grid={'bootstrap': [True], 'max_depth': [None],\n",
              "                         'max_features': [3], 'min_samples_leaf': [1, 2],\n",
              "                         'min_samples_split': [2, 0.8],\n",
              "                         'n_estimators': [1000]},\n",
              "             return_train_score=True)"
            ]
          },
          "metadata": {},
          "execution_count": 153
        }
      ]
    },
    {
      "cell_type": "code",
      "source": [
        "grid_search.best_params_"
      ],
      "metadata": {
        "colab": {
          "base_uri": "https://localhost:8080/"
        },
        "id": "UNHUMUnPynNi",
        "outputId": "cf8f8386-724a-466b-f069-1399cc3b0baa"
      },
      "execution_count": 157,
      "outputs": [
        {
          "output_type": "execute_result",
          "data": {
            "text/plain": [
              "{'bootstrap': True,\n",
              " 'max_depth': None,\n",
              " 'max_features': 3,\n",
              " 'min_samples_leaf': 1,\n",
              " 'min_samples_split': 2,\n",
              " 'n_estimators': 1000}"
            ]
          },
          "metadata": {},
          "execution_count": 157
        }
      ]
    },
    {
      "cell_type": "code",
      "source": [
        "best_grid = grid_search.best_estimator_\n",
        "best_grid"
      ],
      "metadata": {
        "colab": {
          "base_uri": "https://localhost:8080/"
        },
        "id": "96A9MdaO3ybP",
        "outputId": "97c5e4e3-6697-45c1-e343-047721e1b41d"
      },
      "execution_count": 158,
      "outputs": [
        {
          "output_type": "execute_result",
          "data": {
            "text/plain": [
              "RandomForestRegressor(max_features=3, n_estimators=1000)"
            ]
          },
          "metadata": {},
          "execution_count": 158
        }
      ]
    },
    {
      "cell_type": "code",
      "source": [
        "rf_val_predictions = best_grid.predict(val_X)\n",
        "rf_val_mae = mean_absolute_error(rf_val_predictions, val_y)\n",
        "rf_accuracy = sk.metrics.accuracy_score(val_y,list(map(round,rf_val_predictions)))\n",
        "\n",
        "print(\"Validation MAE for Random Forest Model: {}\".format(rf_val_mae))\n",
        "print(\"Accuracy : {}\".format(rf_accuracy))"
      ],
      "metadata": {
        "colab": {
          "base_uri": "https://localhost:8080/"
        },
        "id": "fzs6sgig3sB3",
        "outputId": "03c4555e-f045-4d3e-c8cd-e8e1f39223bc"
      },
      "execution_count": 159,
      "outputs": [
        {
          "output_type": "stream",
          "name": "stdout",
          "text": [
            "Validation MAE for Random Forest Model: 0.4715965909090909\n",
            "Accuracy : 0.6837121212121212\n"
          ]
        }
      ]
    },
    {
      "cell_type": "markdown",
      "source": [
        "### Decision Tree Classifier"
      ],
      "metadata": {
        "id": "GFmztXDh9nWf"
      }
    },
    {
      "cell_type": "code",
      "source": [
        "from sklearn.tree import DecisionTreeClassifier\n",
        "DTclf_model=DecisionTreeClassifier()\n",
        "DTclf_model.fit(train_X, train_y)\n",
        "DTclf_val_predictions = DTclf_model.predict(val_X)\n",
        "DTclf_val_mae = mean_absolute_error(DTclf_val_predictions, val_y)\n",
        "DTclf_accuracy = sk.metrics.accuracy_score(val_y,list(map(round,DTclf_val_predictions)))\n",
        "mod2 = pd.DataFrame({\"Model\":\"Decision Tree CLassifier\",\"Accuracy\":DTclf_accuracy,\"MAE\":DTclf_val_mae},index =[0])\n",
        "\n",
        "print(\"Validation MAE for Decision Tree Classifier: {}\".format(DTclf_val_mae))\n",
        "print(\"Accuracy : {}\".format(DTclf_accuracy))"
      ],
      "metadata": {
        "colab": {
          "base_uri": "https://localhost:8080/"
        },
        "id": "JSdCJNmR9rkf",
        "outputId": "746779b7-0dac-4385-ce8d-6853a7a44683"
      },
      "execution_count": 172,
      "outputs": [
        {
          "output_type": "stream",
          "name": "stdout",
          "text": [
            "Validation MAE for Decision Tree Classifier: 0.4602272727272727\n",
            "Accuracy : 0.7462121212121212\n"
          ]
        }
      ]
    },
    {
      "cell_type": "markdown",
      "source": [
        "### KNN"
      ],
      "metadata": {
        "id": "5Y6hqJQQg_ZR"
      }
    },
    {
      "cell_type": "code",
      "source": [
        "from sklearn.neighbors import KNeighborsClassifier\n",
        "from sklearn.pipeline import make_pipeline\n",
        "from sklearn.model_selection import GridSearchCV\n",
        "from sklearn.model_selection import cross_val_score"
      ],
      "metadata": {
        "id": "NfANXOPThLql"
      },
      "execution_count": 173,
      "outputs": []
    },
    {
      "cell_type": "code",
      "source": [
        "# pipeline combining transformers and estimator\n",
        "pipe_knn= make_pipeline(StandardScaler(), KNeighborsClassifier())\n",
        " \n",
        "# grid searh to choose the best (combination of) hyperparameters\n",
        "gs_knn=GridSearchCV(estimator= pipe_knn,\n",
        "               param_grid={'kneighborsclassifier__n_neighbors':[4,5,6,7]},\n",
        "               scoring='accuracy')\n",
        "\n",
        "# nested cross validation combining grid search (inner loop) and k-fold cv (outter loop)\n",
        "gs_knn_scores = cross_val_score(gs_knn, X=train_X, y=train_y, cv=5,scoring='accuracy', n_jobs=-1)\n",
        "\n",
        "# fit, and fit with best estimator\n",
        "gs_knn.fit(train_X, train_y)\n",
        "gs_knn_best=gs_knn.best_estimator_\n",
        "gs_knn_best.fit(train_X, train_y)\n",
        "\n",
        "knn_val_predictions = gs_knn_best.predict(val_X)\n",
        "knn_val_mae = mean_absolute_error(knn_val_predictions, val_y)\n",
        "knn_accuracy = sk.metrics.accuracy_score(val_y,list(map(round,knn_val_predictions)))\n",
        "mod3 = pd.DataFrame({\"Model\":\"Knn\",\"Accuracy\":knn_accuracy,\"MAE\":knn_val_mae},index =[0])\n",
        "\n",
        "print(\"Validation MAE for Knn: {}\".format(knn_val_mae))\n",
        "print(\"Accuracy : {}\".format(knn_accuracy))"
      ],
      "metadata": {
        "colab": {
          "base_uri": "https://localhost:8080/"
        },
        "id": "O8i_aoRkg5PI",
        "outputId": "6304fb56-76db-452c-b290-537725141341"
      },
      "execution_count": 178,
      "outputs": [
        {
          "output_type": "stream",
          "name": "stdout",
          "text": [
            "Validation MAE for Knn: 0.38446969696969696\n",
            "Accuracy : 0.7840909090909091\n"
          ]
        }
      ]
    },
    {
      "cell_type": "markdown",
      "source": [
        "### SGD Classifier"
      ],
      "metadata": {
        "id": "m_6afZEhFlQZ"
      }
    },
    {
      "cell_type": "code",
      "source": [
        "from sklearn.linear_model import SGDClassifier\n",
        "SGDC_model=SGDClassifier()\n",
        "SGDC_model.fit(train_X, train_y)\n",
        "SGDC_val_predictions = SGDC_model.predict(val_X)\n",
        "SGDC_val_mae = mean_absolute_error(SGDC_val_predictions, val_y)\n",
        "SGDC_accuracy = sk.metrics.accuracy_score(val_y,list(map(round,SGDC_val_predictions)))\n",
        "mod4 = pd.DataFrame({\"Model\":\"SGD classifier\",\"Accuracy\":SGDC_accuracy,\"MAE\":SGDC_val_mae},index =[0])\n",
        "\n",
        "print(\"Validation MAE for Decision Tree Classifier: {}\".format(SGDC_val_mae))\n",
        "print(\"Accuracy : {}\".format(SGDC_accuracy))"
      ],
      "metadata": {
        "colab": {
          "base_uri": "https://localhost:8080/"
        },
        "id": "Ja2gFVQWFocQ",
        "outputId": "f285bf35-983e-4aa3-8ea8-f28ac5a9cec2"
      },
      "execution_count": 184,
      "outputs": [
        {
          "output_type": "stream",
          "name": "stdout",
          "text": [
            "Validation MAE for Decision Tree Classifier: 1.1950757575757576\n",
            "Accuracy : 0.3996212121212121\n"
          ]
        }
      ]
    },
    {
      "cell_type": "markdown",
      "source": [
        "### Logistic regression"
      ],
      "metadata": {
        "id": "0CELgPelGROM"
      }
    },
    {
      "cell_type": "code",
      "source": [
        "from sklearn.linear_model import LogisticRegression\n",
        "LR_model=LogisticRegression()\n",
        "LR_model.fit(train_X, train_y)\n",
        "LR_val_predictions = LR_model.predict(val_X)\n",
        "LR_val_mae = mean_absolute_error(LR_val_predictions, val_y)\n",
        "LR_accuracy = sk.metrics.accuracy_score(val_y,list(map(round,LR_val_predictions)))\n",
        "mod5 = pd.DataFrame({\"Model\":\"Logistic regression\",\"Accuracy\":LR_accuracy,\"MAE\":LR_val_mae},index =[0])\n",
        "\n",
        "print(\"Validation MAE for Decision Tree Classifier: {}\".format(LR_val_mae))\n",
        "print(\"Accuracy : {}\".format(LR_accuracy))"
      ],
      "metadata": {
        "colab": {
          "base_uri": "https://localhost:8080/"
        },
        "id": "DR8Jn3OfGTDK",
        "outputId": "d64e4ce5-8778-429b-ec55-b61e27e91e12"
      },
      "execution_count": 185,
      "outputs": [
        {
          "output_type": "stream",
          "name": "stdout",
          "text": [
            "Validation MAE for Decision Tree Classifier: 0.8371212121212122\n",
            "Accuracy : 0.5397727272727273\n"
          ]
        },
        {
          "output_type": "stream",
          "name": "stderr",
          "text": [
            "/usr/local/lib/python3.7/dist-packages/sklearn/linear_model/_logistic.py:818: ConvergenceWarning: lbfgs failed to converge (status=1):\n",
            "STOP: TOTAL NO. of ITERATIONS REACHED LIMIT.\n",
            "\n",
            "Increase the number of iterations (max_iter) or scale the data as shown in:\n",
            "    https://scikit-learn.org/stable/modules/preprocessing.html\n",
            "Please also refer to the documentation for alternative solver options:\n",
            "    https://scikit-learn.org/stable/modules/linear_model.html#logistic-regression\n",
            "  extra_warning_msg=_LOGISTIC_SOLVER_CONVERGENCE_MSG,\n"
          ]
        }
      ]
    },
    {
      "cell_type": "markdown",
      "source": [
        "### Comparaison of models"
      ],
      "metadata": {
        "id": "0SdAWuyRwq7F"
      }
    },
    {
      "cell_type": "code",
      "source": [
        "Comp = pd.concat([mod1,mod2,mod3,mod4,mod5])\n",
        "Comp = Comp.set_index(\"Model\")\n",
        "Comp"
      ],
      "metadata": {
        "colab": {
          "base_uri": "https://localhost:8080/",
          "height": 237
        },
        "id": "PxCqaT8ZwwtG",
        "outputId": "a41e86aa-0b84-4b85-c1f8-5b06a000b6c1"
      },
      "execution_count": 186,
      "outputs": [
        {
          "output_type": "execute_result",
          "data": {
            "text/html": [
              "\n",
              "  <div id=\"df-6e3f929c-1cc9-4baf-96f3-a478b58d7d20\">\n",
              "    <div class=\"colab-df-container\">\n",
              "      <div>\n",
              "<style scoped>\n",
              "    .dataframe tbody tr th:only-of-type {\n",
              "        vertical-align: middle;\n",
              "    }\n",
              "\n",
              "    .dataframe tbody tr th {\n",
              "        vertical-align: top;\n",
              "    }\n",
              "\n",
              "    .dataframe thead th {\n",
              "        text-align: right;\n",
              "    }\n",
              "</style>\n",
              "<table border=\"1\" class=\"dataframe\">\n",
              "  <thead>\n",
              "    <tr style=\"text-align: right;\">\n",
              "      <th></th>\n",
              "      <th>Accuracy</th>\n",
              "      <th>MAE</th>\n",
              "    </tr>\n",
              "    <tr>\n",
              "      <th>Model</th>\n",
              "      <th></th>\n",
              "      <th></th>\n",
              "    </tr>\n",
              "  </thead>\n",
              "  <tbody>\n",
              "    <tr>\n",
              "      <th>Random Forest</th>\n",
              "      <td>0.717803</td>\n",
              "      <td>0.431705</td>\n",
              "    </tr>\n",
              "    <tr>\n",
              "      <th>Decision Tree CLassifier</th>\n",
              "      <td>0.342803</td>\n",
              "      <td>1.000000</td>\n",
              "    </tr>\n",
              "    <tr>\n",
              "      <th>Knn</th>\n",
              "      <td>0.820076</td>\n",
              "      <td>0.354167</td>\n",
              "    </tr>\n",
              "    <tr>\n",
              "      <th>SGD classifier</th>\n",
              "      <td>0.399621</td>\n",
              "      <td>1.195076</td>\n",
              "    </tr>\n",
              "    <tr>\n",
              "      <th>Logistic regression</th>\n",
              "      <td>0.539773</td>\n",
              "      <td>0.837121</td>\n",
              "    </tr>\n",
              "  </tbody>\n",
              "</table>\n",
              "</div>\n",
              "      <button class=\"colab-df-convert\" onclick=\"convertToInteractive('df-6e3f929c-1cc9-4baf-96f3-a478b58d7d20')\"\n",
              "              title=\"Convert this dataframe to an interactive table.\"\n",
              "              style=\"display:none;\">\n",
              "        \n",
              "  <svg xmlns=\"http://www.w3.org/2000/svg\" height=\"24px\"viewBox=\"0 0 24 24\"\n",
              "       width=\"24px\">\n",
              "    <path d=\"M0 0h24v24H0V0z\" fill=\"none\"/>\n",
              "    <path d=\"M18.56 5.44l.94 2.06.94-2.06 2.06-.94-2.06-.94-.94-2.06-.94 2.06-2.06.94zm-11 1L8.5 8.5l.94-2.06 2.06-.94-2.06-.94L8.5 2.5l-.94 2.06-2.06.94zm10 10l.94 2.06.94-2.06 2.06-.94-2.06-.94-.94-2.06-.94 2.06-2.06.94z\"/><path d=\"M17.41 7.96l-1.37-1.37c-.4-.4-.92-.59-1.43-.59-.52 0-1.04.2-1.43.59L10.3 9.45l-7.72 7.72c-.78.78-.78 2.05 0 2.83L4 21.41c.39.39.9.59 1.41.59.51 0 1.02-.2 1.41-.59l7.78-7.78 2.81-2.81c.8-.78.8-2.07 0-2.86zM5.41 20L4 18.59l7.72-7.72 1.47 1.35L5.41 20z\"/>\n",
              "  </svg>\n",
              "      </button>\n",
              "      \n",
              "  <style>\n",
              "    .colab-df-container {\n",
              "      display:flex;\n",
              "      flex-wrap:wrap;\n",
              "      gap: 12px;\n",
              "    }\n",
              "\n",
              "    .colab-df-convert {\n",
              "      background-color: #E8F0FE;\n",
              "      border: none;\n",
              "      border-radius: 50%;\n",
              "      cursor: pointer;\n",
              "      display: none;\n",
              "      fill: #1967D2;\n",
              "      height: 32px;\n",
              "      padding: 0 0 0 0;\n",
              "      width: 32px;\n",
              "    }\n",
              "\n",
              "    .colab-df-convert:hover {\n",
              "      background-color: #E2EBFA;\n",
              "      box-shadow: 0px 1px 2px rgba(60, 64, 67, 0.3), 0px 1px 3px 1px rgba(60, 64, 67, 0.15);\n",
              "      fill: #174EA6;\n",
              "    }\n",
              "\n",
              "    [theme=dark] .colab-df-convert {\n",
              "      background-color: #3B4455;\n",
              "      fill: #D2E3FC;\n",
              "    }\n",
              "\n",
              "    [theme=dark] .colab-df-convert:hover {\n",
              "      background-color: #434B5C;\n",
              "      box-shadow: 0px 1px 3px 1px rgba(0, 0, 0, 0.15);\n",
              "      filter: drop-shadow(0px 1px 2px rgba(0, 0, 0, 0.3));\n",
              "      fill: #FFFFFF;\n",
              "    }\n",
              "  </style>\n",
              "\n",
              "      <script>\n",
              "        const buttonEl =\n",
              "          document.querySelector('#df-6e3f929c-1cc9-4baf-96f3-a478b58d7d20 button.colab-df-convert');\n",
              "        buttonEl.style.display =\n",
              "          google.colab.kernel.accessAllowed ? 'block' : 'none';\n",
              "\n",
              "        async function convertToInteractive(key) {\n",
              "          const element = document.querySelector('#df-6e3f929c-1cc9-4baf-96f3-a478b58d7d20');\n",
              "          const dataTable =\n",
              "            await google.colab.kernel.invokeFunction('convertToInteractive',\n",
              "                                                     [key], {});\n",
              "          if (!dataTable) return;\n",
              "\n",
              "          const docLinkHtml = 'Like what you see? Visit the ' +\n",
              "            '<a target=\"_blank\" href=https://colab.research.google.com/notebooks/data_table.ipynb>data table notebook</a>'\n",
              "            + ' to learn more about interactive tables.';\n",
              "          element.innerHTML = '';\n",
              "          dataTable['output_type'] = 'display_data';\n",
              "          await google.colab.output.renderOutput(dataTable, element);\n",
              "          const docLink = document.createElement('div');\n",
              "          docLink.innerHTML = docLinkHtml;\n",
              "          element.appendChild(docLink);\n",
              "        }\n",
              "      </script>\n",
              "    </div>\n",
              "  </div>\n",
              "  "
            ],
            "text/plain": [
              "                          Accuracy       MAE\n",
              "Model                                       \n",
              "Random Forest             0.717803  0.431705\n",
              "Decision Tree CLassifier  0.342803  1.000000\n",
              "Knn                       0.820076  0.354167\n",
              "SGD classifier            0.399621  1.195076\n",
              "Logistic regression       0.539773  0.837121"
            ]
          },
          "metadata": {},
          "execution_count": 186
        }
      ]
    },
    {
      "cell_type": "code",
      "source": [
        "# pipeline combining transformers and estimator\n",
        "pipe_knn= make_pipeline(StandardScaler(), KNeighborsClassifier())\n",
        " \n",
        "param = {'kneighborsclassifier__n_neighbors':[4,5,6,7],\n",
        "         'kneighborsclassifier__weights':['uniform', 'distance'],\n",
        "         'kneighborsclassifier__leaf_size':[25,30,35],\n",
        "         'kneighborsclassifier__p':[1,2],\n",
        "         kneighborsclassifier__n_jobs':[-1]}\n",
        "# grid searh to choose the best (combination of) hyperparameters\n",
        "gs_knn=GridSearchCV(estimator= pipe_knn,\n",
        "               param_grid=param,\n",
        "               scoring='accuracy',\n",
        "               cv=10)\n",
        "\n",
        "# nested cross validation combining grid search (inner loop) and k-fold cv (outter loop)\n",
        "gs_knn_scores = cross_val_score(gs_knn, X=train_X, y=train_y, cv=10,scoring='accuracy', n_jobs=-1)\n",
        "\n",
        "# fit, and fit with best estimator\n",
        "gs_knn.fit(train_X, train_y)\n",
        "gs_knn_best=gs_knn.best_estimator_\n",
        "gs_knn_best.fit(train_X, train_y)\n",
        "\n",
        "knn_val_predictions = gs_knn_best.predict(val_X)\n",
        "knn_val_mae = mean_absolute_error(knn_val_predictions, val_y)\n",
        "knn_accuracy = sk.metrics.accuracy_score(val_y,list(map(round,knn_val_predictions)))\n",
        "\n",
        "print(\"Validation MAE for Knn: {}\".format(knn_val_mae))\n",
        "print(\"Accuracy : {}\".format(knn_accuracy))"
      ],
      "metadata": {
        "colab": {
          "base_uri": "https://localhost:8080/"
        },
        "id": "zjraN76wBK0Q",
        "outputId": "99fb6970-0bcc-4599-a128-f49632747be9"
      },
      "execution_count": 196,
      "outputs": [
        {
          "output_type": "stream",
          "name": "stdout",
          "text": [
            "Validation MAE for Knn: 0.3541666666666667\n",
            "Accuracy : 0.8200757575757576\n"
          ]
        }
      ]
    },
    {
      "cell_type": "code",
      "source": [
        "gs_knn.best_estimator_"
      ],
      "metadata": {
        "colab": {
          "base_uri": "https://localhost:8080/"
        },
        "id": "YT6xCiBbH72W",
        "outputId": "7f1d7f25-c5c7-4276-8417-113f53071c16"
      },
      "execution_count": 194,
      "outputs": [
        {
          "output_type": "execute_result",
          "data": {
            "text/plain": [
              "Pipeline(steps=[('standardscaler', StandardScaler()),\n",
              "                ('kneighborsclassifier',\n",
              "                 KNeighborsClassifier(leaf_size=1, n_jobs=-1, n_neighbors=4,\n",
              "                                      p=1, weights='distance'))])"
            ]
          },
          "metadata": {},
          "execution_count": 194
        }
      ]
    }
  ]
}